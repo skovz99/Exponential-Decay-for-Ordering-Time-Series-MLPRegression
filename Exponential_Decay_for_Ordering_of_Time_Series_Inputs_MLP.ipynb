{
  "nbformat": 4,
  "nbformat_minor": 0,
  "metadata": {
    "colab": {
      "provenance": [],
      "authorship_tag": "ABX9TyNPIyyqYw5BlRbVlgMT1C8P",
      "include_colab_link": true
    },
    "kernelspec": {
      "name": "python3",
      "display_name": "Python 3"
    },
    "language_info": {
      "name": "python"
    }
  },
  "cells": [
    {
      "cell_type": "markdown",
      "metadata": {
        "id": "view-in-github",
        "colab_type": "text"
      },
      "source": [
        "<a href=\"https://colab.research.google.com/github/skovz99/Exponential-Decay-for-Ordering-Time-Series-MLPRegression/blob/main/Exponential_Decay_for_Ordering_of_Time_Series_Inputs_MLP.ipynb\" target=\"_parent\"><img src=\"https://colab.research.google.com/assets/colab-badge.svg\" alt=\"Open In Colab\"/></a>"
      ]
    },
    {
      "cell_type": "code",
      "execution_count": null,
      "metadata": {
        "id": "W40vjyrEVqF_"
      },
      "outputs": [],
      "source": [
        "from itertools import product\n",
        "import yfinance as yf\n",
        "import pandas as pd\n",
        "import numpy as np\n",
        "from sklearn.model_selection import train_test_split\n",
        "from sklearn.neural_network import MLPRegressor\n",
        "\n",
        "# import the stock ticker and price history\n",
        "stock_ticker = yf.Ticker('TSLA')\n",
        "price_history = yf.Ticker('TSLA').history(period='max', interval='1d', actions=False)\n",
        "df = pd.DataFrame(price_history)\n",
        "\n",
        "# define a function to implement exponential decay\n",
        "def order_via_decay(inputs, size, decay):\n",
        "    np_inputs = np.array(inputs)\n",
        "    X_data = []\n",
        "    Y_data = []\n",
        "    for i in range(len(np_inputs) - size):\n",
        "        X_window = np_inputs[i : i + size]\n",
        "        y_value = np_inputs[i + size]\n",
        "        X_data.append(X_window)\n",
        "        Y_data.append(y_value)\n",
        "    ordered_X_data = []\n",
        "    for X_window in X_data:\n",
        "        ordered_X_window = []\n",
        "        for position, x in enumerate(X_window, start=1):\n",
        "            order = x * (decay ** (size + 1 - position))\n",
        "            ordered_X_window.append(order)\n",
        "        ordered_X_data.append(ordered_X_window)\n",
        "    return ordered_X_data, Y_data\n",
        "\n",
        "# Set parameter ranges\n",
        "input_size = [5, 10, 20, 25, 50] # this relates to the number of days in the past to consider. Any positive integer value works\n",
        "test_sizes = [0.1, 0.2, 0.3] # this relates to the size of the testing dataset used for testing of the MLPRegression weights\n",
        "decay_rate = [0.99, 0.98, 0.97, 0.95, 0.9, 0.8] # decay rate should be any number (0<x<1). Do not inlucde 0 or 1. Values present here are recommended values\n",
        "\n",
        "# Create list of parameter combinations\n",
        "param_combinations = product(test_sizes, input_size, decay_rate)\n",
        "\n",
        "# Loop over parameter combinations and fit KNN model\n",
        "test_scores1 = []\n",
        "for test, input, decay in param_combinations:\n",
        "  for x in range(3):\n",
        "    X, Y = order_via_decay(df['Close'], size = input, decay = decay)\n",
        "    X_train, X_test, y_train, y_test = train_test_split(X, Y, test_size = test, random_state=42, shuffle = False)\n",
        "    architecture = MLPRegressor(hidden_layer_sizes=(100, 25, 10), activation = 'relu', max_iter = 100)\n",
        "    predict = architecture.fit(X_train, y_train)\n",
        "    y_pred = predict.predict(X_test)\n",
        "    true_values = y_test\n",
        "    predicted_values = y_pred\n",
        "    check1 = pd.DataFrame([true_values, predicted_values])\n",
        "    check1 = check1.T\n",
        "    check1 = check1.rename(columns={0: \"x\", 1: \"y\"})\n",
        "    check1['Difference'] = (abs((check1['x'] - check1['y']))/(check1['x']))*100 # instead of RMSE which will increase as the price of the stock goes up. Percentage difference between prediction and actual is used as metric of success\n",
        "    mean1 = check1['Difference'].mean()\n",
        "    ten = np.percentile(check1['Difference'], 10)\n",
        "    twenty = np.percentile(check1['Difference'], 20)\n",
        "    thirty = np.percentile(check1['Difference'], 30)\n",
        "    fourty = np.percentile(check1['Difference'], 40)\n",
        "    fifty = np.percentile(check1['Difference'], 50)\n",
        "    sixty = np.percentile(check1['Difference'], 60)\n",
        "    seventy = np.percentile(check1['Difference'], 70)\n",
        "    eighty = np.percentile(check1['Difference'], 80)\n",
        "    ninty = np.percentile(check1['Difference'], 90)\n",
        "    test_scores1.append((mean1, ten, twenty, thirty, fourty, fifty, sixty, seventy, eighty, ninty))\n",
        "\n",
        "test1 = pd.DataFrame(test_scores1, columns=['Mean', '10 Percentile', '20 Percentile', '30 Percentile', '40 Percentile', '50 Percentile', '60 Percentile', '70 Percentile', '80 Percentile', '90 Percentile'])\n"
      ]
    }
  ]
}